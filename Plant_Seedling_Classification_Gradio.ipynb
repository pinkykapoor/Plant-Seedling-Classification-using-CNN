{
 "cells": [
  {
   "cell_type": "code",
   "execution_count": 1,
   "id": "23094ae4",
   "metadata": {},
   "outputs": [],
   "source": [
    "#pip install gradio\n",
    "#pip install --upgrade gradio"
   ]
  },
  {
   "cell_type": "code",
   "execution_count": 2,
   "id": "c14ae580",
   "metadata": {},
   "outputs": [],
   "source": [
    "import gradio as gr\n",
    "import cv2\n",
    "import numpy as np"
   ]
  },
  {
   "cell_type": "code",
   "execution_count": 3,
   "id": "dd0ce76e",
   "metadata": {},
   "outputs": [],
   "source": [
    "from tensorflow.keras.models import load_model\n",
    "\n",
    "# Load the previously saved model\n",
    "model1 = load_model('Plant_Seedling_Model1.h5')"
   ]
  },
  {
   "cell_type": "code",
   "execution_count": 4,
   "id": "dd73c27f",
   "metadata": {},
   "outputs": [],
   "source": [
    "def image_preprocessing(images):\n",
    "\n",
    "    new_train = []\n",
    "    sets = []; \n",
    "    #getEx = True\n",
    "    for i in images:\n",
    "        blurr = cv2.GaussianBlur(i,(5,5),0)\n",
    "        hsv = cv2.cvtColor(blurr,cv2.COLOR_BGR2HSV) #Using BGR TO HSV conversion. reason is mentioned above\n",
    "        #HSV Boundaries for the Green color (GREEN PARAMETERS)\n",
    "        lower = (25,40,50)\n",
    "        upper = (75,255,255)\n",
    "        mask = cv2.inRange(hsv,lower,upper) # create a mask \n",
    "        struc = cv2.getStructuringElement(cv2.MORPH_ELLIPSE,(11,11)) #getting structring element ( kernal) of sie 11x11\n",
    "        mask = cv2.morphologyEx(mask,cv2.MORPH_CLOSE,struc) # applying morphological transformation ( closing operation ) to remove imperfections from the binary image ( mask)\n",
    "        boolean = mask>0\n",
    "        new = np.zeros_like(i,np.uint8)\n",
    "        new[boolean] = i[boolean]\n",
    "        new_train.append(new)\n",
    "\n",
    "    new_train = np.asarray(new_train)\n",
    "    new_train  = new_train / 255\n",
    "\n",
    "    return new_train\n"
   ]
  },
  {
   "cell_type": "code",
   "execution_count": 7,
   "id": "39732c26",
   "metadata": {},
   "outputs": [],
   "source": [
    "def predict_plant_seedling(img):\n",
    "    # Wrap the image in a list, preprocess, and then extract it back\n",
    "    #img = img[..., ::-1]\n",
    "    resized_image = cv2.resize(img, (128, 128))\n",
    "    #img = cv2.cvtColor(resized_image, cv2.COLOR_RGB2BGR)\n",
    "    \n",
    "    processed_images = image_preprocessing([resized_image ])\n",
    "    \n",
    "    processed_image = processed_images[0]  # Extract the single processed image\n",
    "\n",
    "    # Add batch dimension\n",
    "    processed_image = np.expand_dims(processed_image, axis=0)\n",
    "\n",
    "    # Predict using the trained model\n",
    "    prediction = model1.predict(processed_image)\n",
    "    predicted_class = np.argmax(prediction, axis=1)\n",
    "    print(f\"Class {predicted_class}\")\n",
    "    \n",
    "    # Map to class names\n",
    "    class_names = ['Black-grass', 'Charlock', 'Cleavers', 'Common Chickweed', 'Common Wheat', 'Fat Hen', 'Loose Silky-bent', 'Maize', 'Scentless Mayweed', 'Shepherds Purse', 'Small-flowered Cranesbill', 'Sugar beet']\n",
    "    predicted_class_name = class_names[predicted_class[0]]\n",
    "\n",
    "    return predicted_class_name\n"
   ]
  },
  {
   "cell_type": "code",
   "execution_count": 8,
   "id": "2c5ad073",
   "metadata": {},
   "outputs": [
    {
     "name": "stdout",
     "output_type": "stream",
     "text": [
      "Running on local URL:  http://127.0.0.1:7861\n",
      "\n",
      "To create a public link, set `share=True` in `launch()`.\n"
     ]
    },
    {
     "data": {
      "text/html": [
       "<div><iframe src=\"http://127.0.0.1:7861/\" width=\"100%\" height=\"500\" allow=\"autoplay; camera; microphone; clipboard-read; clipboard-write;\" frameborder=\"0\" allowfullscreen></iframe></div>"
      ],
      "text/plain": [
       "<IPython.core.display.HTML object>"
      ]
     },
     "metadata": {},
     "output_type": "display_data"
    },
    {
     "data": {
      "text/plain": []
     },
     "execution_count": 8,
     "metadata": {},
     "output_type": "execute_result"
    },
    {
     "name": "stdout",
     "output_type": "stream",
     "text": [
      "1/1 [==============================] - 0s 113ms/step\n",
      "Class [11]\n",
      "1/1 [==============================] - 0s 20ms/step\n",
      "Class [5]\n",
      "1/1 [==============================] - 0s 19ms/step\n",
      "Class [0]\n",
      "1/1 [==============================] - 0s 20ms/step\n",
      "Class [0]\n"
     ]
    }
   ],
   "source": [
    "iface = gr.Interface(fn=predict_plant_seedling, inputs=\"image\", outputs=\"text\")\n",
    "iface.launch()"
   ]
  },
  {
   "cell_type": "code",
   "execution_count": null,
   "id": "04c9902a",
   "metadata": {},
   "outputs": [],
   "source": []
  }
 ],
 "metadata": {
  "kernelspec": {
   "display_name": "Python 3 (ipykernel)",
   "language": "python",
   "name": "python3"
  },
  "language_info": {
   "codemirror_mode": {
    "name": "ipython",
    "version": 3
   },
   "file_extension": ".py",
   "mimetype": "text/x-python",
   "name": "python",
   "nbconvert_exporter": "python",
   "pygments_lexer": "ipython3",
   "version": "3.10.10"
  }
 },
 "nbformat": 4,
 "nbformat_minor": 5
}
